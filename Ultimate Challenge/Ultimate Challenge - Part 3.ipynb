{
 "cells": [
  {
   "cell_type": "markdown",
   "metadata": {},
   "source": [
    "# Part    3    ‑    Predictive     modeling    <br>\n",
    "Ultimate     is     interested     in     predicting     rider     retention.    To    help    explore     this    question,    we    have  provided     a     sample    dataset     of     a     cohort    of    users    who     signed    up     for    an    Ultimate    account     in \n",
    "January    2014.    The     data    was    pulled     several    months     later;    we     consider    a    user     retained     if     they  were     “active”     (i.e.     took    a     trip)     in     the     preceding    30    days.<br>    We     would     like     you     to    use     this    data     set     to    help    understand    what     factors    are     the    best    predictors  for     retention,    and    offer     suggestions     to     operationalize     those     insights     to    help    Ultimate. <br>   The    data     is     in     the    attached     file     ultimate_data_challenge.json.    See    below     for    a    detailed  description     of     the    dataset.     Please     include    any     code     you    wrote     for     the    analysis    and    delete     the  dataset    when     you    have     finished     with     the     challenge.   <br>\n",
    "1. Perform    any     cleaning,     exploratory    analysis,    and/or     visualizations     to    use     the    provided  data     for     this    analysis     (a     few     sentences/plots    describing     your    approach    will     suffice).    What  fraction     of     the    observed     users    were     retained?  \n",
    "2. Build    a    predictive     model     to     help    Ultimate    determine    whether    or    not    a    user    will    be    active  in     their    6th    month     on     the     system.    Discuss    why     you     chose     your    approach,    what  alternatives     you     considered,     and    any     concerns     you    have.    How     valid     is     your    model?  Include    any     key     indicators    of     model    performance.  \n",
    "3. Briefly    discuss    how     Ultimate     might     leverage     the     insights    gained     from     the    model     to  improve     its     long­  term     rider     retention     (again,    a     few     sentences    will     suffice).\n",
    "\n",
    "Data    description  \n",
    "● city:       city     this    user     signed     up     in  \n",
    "● phone:      primary    device     for     this    user  \n",
    "● signup_date:      date     of     account     registration;     in     the     form     ‘YYYY MM DD’  \n",
    "● last_trip_date:       the     last     time     this    user     completed    a     trip;     in     the     form     ‘YYYY MM DD’  \n",
    "● avg_dist:       the    average     distance     in    miles    per     trip     taken     in     the     first    30    days    after     signup  \n",
    "● avg_rating_by_driver:       the     rider’s    average     rating    over    all    of     their     trips  \n",
    "● avg_rating_of_driver:       the     rider’s    average     rating    of     their    drivers    over    all    of     their     trips  \n",
    "● surge_pct:       the    percent     of     trips     taken    with     surge    multiplier    >    1  \n",
    "● avg_surge:       The    average     surge    multiplier    over    all    of     this    user’s     trips  \n",
    "● trips_in_first_30_days:       the     number    of     trips     this    user     took     in     the     first    30    days    after  signing    up   \n",
    "● ultimate_black_user:       TRUE     if     the    user     took    an    Ultimate    Black     in     their     first    30    days;  FALSE    otherwise  \n",
    "● weekday_pct:       the     percent     of     the    user’s     trips    occurring    during    a    weekday    "
   ]
  },
  {
   "cell_type": "code",
   "execution_count": 38,
   "metadata": {
    "scrolled": true
   },
   "outputs": [
    {
     "data": {
      "text/html": [
       "<div>\n",
       "<style scoped>\n",
       "    .dataframe tbody tr th:only-of-type {\n",
       "        vertical-align: middle;\n",
       "    }\n",
       "\n",
       "    .dataframe tbody tr th {\n",
       "        vertical-align: top;\n",
       "    }\n",
       "\n",
       "    .dataframe thead th {\n",
       "        text-align: right;\n",
       "    }\n",
       "</style>\n",
       "<table border=\"1\" class=\"dataframe\">\n",
       "  <thead>\n",
       "    <tr style=\"text-align: right;\">\n",
       "      <th></th>\n",
       "      <th>city</th>\n",
       "      <th>trips_in_first_30_days</th>\n",
       "      <th>signup_date</th>\n",
       "      <th>avg_rating_of_driver</th>\n",
       "      <th>avg_surge</th>\n",
       "      <th>last_trip_date</th>\n",
       "      <th>phone</th>\n",
       "      <th>surge_pct</th>\n",
       "      <th>ultimate_black_user</th>\n",
       "      <th>weekday_pct</th>\n",
       "      <th>avg_dist</th>\n",
       "      <th>avg_rating_by_driver</th>\n",
       "    </tr>\n",
       "  </thead>\n",
       "  <tbody>\n",
       "    <tr>\n",
       "      <td>0</td>\n",
       "      <td>King's Landing</td>\n",
       "      <td>4</td>\n",
       "      <td>2014-01-25</td>\n",
       "      <td>4.7</td>\n",
       "      <td>1.10</td>\n",
       "      <td>2014-06-17</td>\n",
       "      <td>iPhone</td>\n",
       "      <td>15.4</td>\n",
       "      <td>True</td>\n",
       "      <td>46.2</td>\n",
       "      <td>3.67</td>\n",
       "      <td>5.0</td>\n",
       "    </tr>\n",
       "    <tr>\n",
       "      <td>1</td>\n",
       "      <td>Astapor</td>\n",
       "      <td>0</td>\n",
       "      <td>2014-01-29</td>\n",
       "      <td>5.0</td>\n",
       "      <td>1.00</td>\n",
       "      <td>2014-05-05</td>\n",
       "      <td>Android</td>\n",
       "      <td>0.0</td>\n",
       "      <td>False</td>\n",
       "      <td>50.0</td>\n",
       "      <td>8.26</td>\n",
       "      <td>5.0</td>\n",
       "    </tr>\n",
       "    <tr>\n",
       "      <td>2</td>\n",
       "      <td>Astapor</td>\n",
       "      <td>3</td>\n",
       "      <td>2014-01-06</td>\n",
       "      <td>4.3</td>\n",
       "      <td>1.00</td>\n",
       "      <td>2014-01-07</td>\n",
       "      <td>iPhone</td>\n",
       "      <td>0.0</td>\n",
       "      <td>False</td>\n",
       "      <td>100.0</td>\n",
       "      <td>0.77</td>\n",
       "      <td>5.0</td>\n",
       "    </tr>\n",
       "    <tr>\n",
       "      <td>3</td>\n",
       "      <td>King's Landing</td>\n",
       "      <td>9</td>\n",
       "      <td>2014-01-10</td>\n",
       "      <td>4.6</td>\n",
       "      <td>1.14</td>\n",
       "      <td>2014-06-29</td>\n",
       "      <td>iPhone</td>\n",
       "      <td>20.0</td>\n",
       "      <td>True</td>\n",
       "      <td>80.0</td>\n",
       "      <td>2.36</td>\n",
       "      <td>4.9</td>\n",
       "    </tr>\n",
       "    <tr>\n",
       "      <td>4</td>\n",
       "      <td>Winterfell</td>\n",
       "      <td>14</td>\n",
       "      <td>2014-01-27</td>\n",
       "      <td>4.4</td>\n",
       "      <td>1.19</td>\n",
       "      <td>2014-03-15</td>\n",
       "      <td>Android</td>\n",
       "      <td>11.8</td>\n",
       "      <td>False</td>\n",
       "      <td>82.4</td>\n",
       "      <td>3.13</td>\n",
       "      <td>4.9</td>\n",
       "    </tr>\n",
       "    <tr>\n",
       "      <td>...</td>\n",
       "      <td>...</td>\n",
       "      <td>...</td>\n",
       "      <td>...</td>\n",
       "      <td>...</td>\n",
       "      <td>...</td>\n",
       "      <td>...</td>\n",
       "      <td>...</td>\n",
       "      <td>...</td>\n",
       "      <td>...</td>\n",
       "      <td>...</td>\n",
       "      <td>...</td>\n",
       "      <td>...</td>\n",
       "    </tr>\n",
       "    <tr>\n",
       "      <td>49995</td>\n",
       "      <td>King's Landing</td>\n",
       "      <td>0</td>\n",
       "      <td>2014-01-25</td>\n",
       "      <td>5.0</td>\n",
       "      <td>1.00</td>\n",
       "      <td>2014-06-05</td>\n",
       "      <td>iPhone</td>\n",
       "      <td>0.0</td>\n",
       "      <td>False</td>\n",
       "      <td>100.0</td>\n",
       "      <td>5.63</td>\n",
       "      <td>4.2</td>\n",
       "    </tr>\n",
       "    <tr>\n",
       "      <td>49996</td>\n",
       "      <td>Astapor</td>\n",
       "      <td>1</td>\n",
       "      <td>2014-01-24</td>\n",
       "      <td>NaN</td>\n",
       "      <td>1.00</td>\n",
       "      <td>2014-01-25</td>\n",
       "      <td>iPhone</td>\n",
       "      <td>0.0</td>\n",
       "      <td>False</td>\n",
       "      <td>0.0</td>\n",
       "      <td>0.00</td>\n",
       "      <td>4.0</td>\n",
       "    </tr>\n",
       "    <tr>\n",
       "      <td>49997</td>\n",
       "      <td>Winterfell</td>\n",
       "      <td>0</td>\n",
       "      <td>2014-01-31</td>\n",
       "      <td>5.0</td>\n",
       "      <td>1.00</td>\n",
       "      <td>2014-05-22</td>\n",
       "      <td>Android</td>\n",
       "      <td>0.0</td>\n",
       "      <td>True</td>\n",
       "      <td>100.0</td>\n",
       "      <td>3.86</td>\n",
       "      <td>5.0</td>\n",
       "    </tr>\n",
       "    <tr>\n",
       "      <td>49998</td>\n",
       "      <td>Astapor</td>\n",
       "      <td>2</td>\n",
       "      <td>2014-01-14</td>\n",
       "      <td>3.0</td>\n",
       "      <td>1.00</td>\n",
       "      <td>2014-01-15</td>\n",
       "      <td>iPhone</td>\n",
       "      <td>0.0</td>\n",
       "      <td>False</td>\n",
       "      <td>100.0</td>\n",
       "      <td>4.58</td>\n",
       "      <td>3.5</td>\n",
       "    </tr>\n",
       "    <tr>\n",
       "      <td>49999</td>\n",
       "      <td>Astapor</td>\n",
       "      <td>0</td>\n",
       "      <td>2014-01-18</td>\n",
       "      <td>NaN</td>\n",
       "      <td>1.00</td>\n",
       "      <td>2014-04-20</td>\n",
       "      <td>Android</td>\n",
       "      <td>0.0</td>\n",
       "      <td>False</td>\n",
       "      <td>0.0</td>\n",
       "      <td>3.49</td>\n",
       "      <td>5.0</td>\n",
       "    </tr>\n",
       "  </tbody>\n",
       "</table>\n",
       "<p>50000 rows × 12 columns</p>\n",
       "</div>"
      ],
      "text/plain": [
       "                 city  trips_in_first_30_days signup_date  \\\n",
       "0      King's Landing                       4  2014-01-25   \n",
       "1             Astapor                       0  2014-01-29   \n",
       "2             Astapor                       3  2014-01-06   \n",
       "3      King's Landing                       9  2014-01-10   \n",
       "4          Winterfell                      14  2014-01-27   \n",
       "...               ...                     ...         ...   \n",
       "49995  King's Landing                       0  2014-01-25   \n",
       "49996         Astapor                       1  2014-01-24   \n",
       "49997      Winterfell                       0  2014-01-31   \n",
       "49998         Astapor                       2  2014-01-14   \n",
       "49999         Astapor                       0  2014-01-18   \n",
       "\n",
       "       avg_rating_of_driver  avg_surge last_trip_date    phone  surge_pct  \\\n",
       "0                       4.7       1.10     2014-06-17   iPhone       15.4   \n",
       "1                       5.0       1.00     2014-05-05  Android        0.0   \n",
       "2                       4.3       1.00     2014-01-07   iPhone        0.0   \n",
       "3                       4.6       1.14     2014-06-29   iPhone       20.0   \n",
       "4                       4.4       1.19     2014-03-15  Android       11.8   \n",
       "...                     ...        ...            ...      ...        ...   \n",
       "49995                   5.0       1.00     2014-06-05   iPhone        0.0   \n",
       "49996                   NaN       1.00     2014-01-25   iPhone        0.0   \n",
       "49997                   5.0       1.00     2014-05-22  Android        0.0   \n",
       "49998                   3.0       1.00     2014-01-15   iPhone        0.0   \n",
       "49999                   NaN       1.00     2014-04-20  Android        0.0   \n",
       "\n",
       "       ultimate_black_user  weekday_pct  avg_dist  avg_rating_by_driver  \n",
       "0                     True         46.2      3.67                   5.0  \n",
       "1                    False         50.0      8.26                   5.0  \n",
       "2                    False        100.0      0.77                   5.0  \n",
       "3                     True         80.0      2.36                   4.9  \n",
       "4                    False         82.4      3.13                   4.9  \n",
       "...                    ...          ...       ...                   ...  \n",
       "49995                False        100.0      5.63                   4.2  \n",
       "49996                False          0.0      0.00                   4.0  \n",
       "49997                 True        100.0      3.86                   5.0  \n",
       "49998                False        100.0      4.58                   3.5  \n",
       "49999                False          0.0      3.49                   5.0  \n",
       "\n",
       "[50000 rows x 12 columns]"
      ]
     },
     "execution_count": 38,
     "metadata": {},
     "output_type": "execute_result"
    }
   ],
   "source": [
    "# Import data using pandas read_json\n",
    "# Import pandas library\n",
    "import pandas as pd\n",
    "\n",
    "# Read data from json file\n",
    "df = pd.read_json(\"ultimate_data_challenge.json\", orient='records')\n",
    "\n",
    "# Check the dataframe\n",
    "df"
   ]
  },
  {
   "cell_type": "markdown",
   "metadata": {},
   "source": [
    "The first thing to note: the JSON file presents missing data with NaN. The method pd.read_json failed, so I replaced NaN with null.<br> I now need to deal with the missing data. Let's check how many we have per column"
   ]
  },
  {
   "cell_type": "code",
   "execution_count": 39,
   "metadata": {},
   "outputs": [
    {
     "data": {
      "text/plain": [
       "city                         0\n",
       "trips_in_first_30_days       0\n",
       "signup_date                  0\n",
       "avg_rating_of_driver      8122\n",
       "avg_surge                    0\n",
       "last_trip_date               0\n",
       "phone                      396\n",
       "surge_pct                    0\n",
       "ultimate_black_user          0\n",
       "weekday_pct                  0\n",
       "avg_dist                     0\n",
       "avg_rating_by_driver       201\n",
       "dtype: int64"
      ]
     },
     "execution_count": 39,
     "metadata": {},
     "output_type": "execute_result"
    }
   ],
   "source": [
    "df.isnull().sum()"
   ]
  },
  {
   "cell_type": "markdown",
   "metadata": {},
   "source": [
    "## Missing values\n",
    "We can observe that the column avg_rating_of_driver has 8122 missing values and avg_rating_by_driver has 201, which is unfortunate. My intuition says that rider's retention and how they rate their drivers may have an association, so dropping all these values is out of question.<br>\n",
    "With that in mind, for the two columns with ratings, I'll replace it with the mean value of the column. For the column \"phone\", I'll simply replace it by the mode.   "
   ]
  },
  {
   "cell_type": "code",
   "execution_count": 40,
   "metadata": {},
   "outputs": [
    {
     "name": "stdout",
     "output_type": "stream",
     "text": [
      "4.6 4.8 ['iPhone']\n"
     ]
    }
   ],
   "source": [
    "# Import libraries\n",
    "import numpy as np\n",
    "from scipy import stats\n",
    "\n",
    "# Calculate averages for the two rating columns\n",
    "avg_of_driver = np.round(np.mean(df.avg_rating_of_driver),decimals = 1)\n",
    "avg_by_driver = np.round(np.mean(df.avg_rating_by_driver),decimals = 1)\n",
    "\n",
    "# Calculate mode for the phone column\n",
    "mode_phone = stats.mode(df.phone[df.phone.notnull()])\n",
    "\n",
    "# Check the results\n",
    "print(avg_of_driver,avg_by_driver,mode_phone[0])"
   ]
  },
  {
   "cell_type": "code",
   "execution_count": 41,
   "metadata": {},
   "outputs": [],
   "source": [
    "# Prepare a dictionary with the columns to replace and the values to replace with\n",
    "values = {'avg_rating_of_driver': avg_of_driver, 'avg_rating_by_driver': avg_by_driver, 'phone': 'iPhone'}\n",
    "\n",
    "# Fill na values\n",
    "df.fillna(value=values, inplace=True)"
   ]
  },
  {
   "cell_type": "code",
   "execution_count": 42,
   "metadata": {
    "scrolled": true
   },
   "outputs": [
    {
     "data": {
      "text/plain": [
       "city                      0\n",
       "trips_in_first_30_days    0\n",
       "signup_date               0\n",
       "avg_rating_of_driver      0\n",
       "avg_surge                 0\n",
       "last_trip_date            0\n",
       "phone                     0\n",
       "surge_pct                 0\n",
       "ultimate_black_user       0\n",
       "weekday_pct               0\n",
       "avg_dist                  0\n",
       "avg_rating_by_driver      0\n",
       "dtype: int64"
      ]
     },
     "execution_count": 42,
     "metadata": {},
     "output_type": "execute_result"
    }
   ],
   "source": [
    "# Check for NaNs\n",
    "df.isnull().sum()"
   ]
  },
  {
   "cell_type": "code",
   "execution_count": 43,
   "metadata": {
    "scrolled": true
   },
   "outputs": [
    {
     "data": {
      "text/plain": [
       "array(['iPhone', 'Android'], dtype=object)"
      ]
     },
     "execution_count": 43,
     "metadata": {},
     "output_type": "execute_result"
    }
   ],
   "source": [
    "# Check the unique values of the phone column, to see if there's only iPhone and Android\n",
    "df.phone.unique()"
   ]
  },
  {
   "cell_type": "markdown",
   "metadata": {},
   "source": [
    "## Analysing the retention\n",
    "<b>What fraction of the observed users were retained?</b>\n",
    "Analyzing the retention rate <u>over time</u> will allow me to answer this question and more. First, I'll check the data type of the columns signup_date and last_trip_date."
   ]
  },
  {
   "cell_type": "code",
   "execution_count": 44,
   "metadata": {},
   "outputs": [
    {
     "name": "stdout",
     "output_type": "stream",
     "text": [
      "<class 'pandas.core.frame.DataFrame'>\n",
      "RangeIndex: 50000 entries, 0 to 49999\n",
      "Data columns (total 12 columns):\n",
      "city                      50000 non-null object\n",
      "trips_in_first_30_days    50000 non-null int64\n",
      "signup_date               50000 non-null object\n",
      "avg_rating_of_driver      50000 non-null float64\n",
      "avg_surge                 50000 non-null float64\n",
      "last_trip_date            50000 non-null object\n",
      "phone                     50000 non-null object\n",
      "surge_pct                 50000 non-null float64\n",
      "ultimate_black_user       50000 non-null bool\n",
      "weekday_pct               50000 non-null float64\n",
      "avg_dist                  50000 non-null float64\n",
      "avg_rating_by_driver      50000 non-null float64\n",
      "dtypes: bool(1), float64(6), int64(1), object(4)\n",
      "memory usage: 4.2+ MB\n"
     ]
    }
   ],
   "source": [
    "df.info()"
   ]
  },
  {
   "cell_type": "markdown",
   "metadata": {},
   "source": [
    "Two columns have dates stored as string. I want to do date operations, so let's convert it to datetime"
   ]
  },
  {
   "cell_type": "code",
   "execution_count": 45,
   "metadata": {
    "scrolled": true
   },
   "outputs": [
    {
     "name": "stdout",
     "output_type": "stream",
     "text": [
      "<class 'pandas.core.frame.DataFrame'>\n",
      "RangeIndex: 50000 entries, 0 to 49999\n",
      "Data columns (total 12 columns):\n",
      "city                      50000 non-null object\n",
      "trips_in_first_30_days    50000 non-null int64\n",
      "signup_date               50000 non-null datetime64[ns]\n",
      "avg_rating_of_driver      50000 non-null float64\n",
      "avg_surge                 50000 non-null float64\n",
      "last_trip_date            50000 non-null datetime64[ns]\n",
      "phone                     50000 non-null object\n",
      "surge_pct                 50000 non-null float64\n",
      "ultimate_black_user       50000 non-null bool\n",
      "weekday_pct               50000 non-null float64\n",
      "avg_dist                  50000 non-null float64\n",
      "avg_rating_by_driver      50000 non-null float64\n",
      "dtypes: bool(1), datetime64[ns](2), float64(6), int64(1), object(2)\n",
      "memory usage: 4.2+ MB\n"
     ]
    }
   ],
   "source": [
    "# Import datetime library. timedelta will be used later\n",
    "from datetime import datetime, timedelta\n",
    "\n",
    "# Apply conversion for every element of the two columns\n",
    "df.signup_date  = df.signup_date.apply(lambda x:datetime.strptime(x,\"%Y-%m-%d\"))\n",
    "df.last_trip_date = df.last_trip_date.apply(lambda x:datetime.strptime(x,\"%Y-%m-%d\"))\n",
    "\n",
    "# Check datatypes for the two columns\n",
    "df.info()\n",
    "\n",
    "# PS: running this cell twice will throw an error"
   ]
  },
  {
   "cell_type": "markdown",
   "metadata": {},
   "source": [
    "Now, let's create a column with the difference, in days, between the last trip and the signup date. "
   ]
  },
  {
   "cell_type": "code",
   "execution_count": 46,
   "metadata": {},
   "outputs": [
    {
     "data": {
      "text/plain": [
       "0        143\n",
       "1         96\n",
       "2          1\n",
       "3        170\n",
       "4         47\n",
       "        ... \n",
       "49995    131\n",
       "49996      1\n",
       "49997    111\n",
       "49998      1\n",
       "49999     92\n",
       "Name: diff_days, Length: 50000, dtype: int64"
      ]
     },
     "execution_count": 46,
     "metadata": {},
     "output_type": "execute_result"
    }
   ],
   "source": [
    "# The difference between two datetime objects is a timedelta object\n",
    "df[\"diff_days\"] = df.last_trip_date - df.signup_date\n",
    "\n",
    "# I just want the number of days as an integer, so I'll just use the property .days from the timedelta objects\n",
    "df.diff_days = df.diff_days.apply(lambda x:x.days)\n",
    "\n",
    "# Validate the operation\n",
    "df.diff_days"
   ]
  },
  {
   "cell_type": "markdown",
   "metadata": {},
   "source": [
    "The operation was successful. Let's prepare the plot, remembering that a user is considered active if they took a trip in the last 30 days."
   ]
  },
  {
   "cell_type": "code",
   "execution_count": 47,
   "metadata": {
    "scrolled": true
   },
   "outputs": [
    {
     "data": {
      "image/png": "[encoded data removed]",
      "text/plain": [
       "<Figure size 432x288 with 1 Axes>"
      ]
     },
     "metadata": {
      "needs_background": "light"
     },
     "output_type": "display_data"
    }
   ],
   "source": [
    "# Import library\n",
    "import matplotlib.pyplot as plt\n",
    "\n",
    "# List to record the retention rates\n",
    "rr = []\n",
    "\n",
    "# Range of days to be considered\n",
    "days_range = np.arange(30,210,30)\n",
    "\n",
    "# Loop though the days_range\n",
    "for day in days_range:\n",
    "    # append the proportion of users active after \"day\" amount of days. Notice the + 30 to consider the active period\n",
    "    rr.append(np.round((len(df.diff_days[df.diff_days + 30 > day])/len(df))*100, decimals=1))\n",
    "    \n",
    "# Prepare the plot\n",
    "plt.plot(days_range, rr)\n",
    "\n",
    "# Y axis label\n",
    "plt.ylabel(\"Retention Rate (%)\")\n",
    "\n",
    "# Plot title\n",
    "plt.title(\"Retention Rate over time\")\n",
    "\n",
    "# Changing the tick marks of X axis, to look better\n",
    "plt.xticks(days_range, [str(x+1) + \" months\" for x in (range(6))])\n",
    "\n",
    "# Annotate the desired value: retention after 6 months\n",
    "plt.annotate(s = str(rr[5]) + \"%\", xy=(180,rr[5]), xytext=(172,60), arrowprops = {'arrowstyle':'-|>'})\n",
    "\n",
    "# Show plot\n",
    "plt.show()\n"
   ]
  },
  {
   "cell_type": "markdown",
   "metadata": {},
   "source": [
    "- <b>The Retention Rate after 6 months, for this January cohort, is 24.4%</b><br>\n",
    "- We need more data to see if the rate reaches a plateau after more months because the retention rate is still dropping linearly<br><br>\n",
    "On to the next item:<br>\n",
    "# Predicting models\n",
    "<b>2.Build a predictive model to help Ultimate determine whether or not a user will be active in their 6th month on the system. Discuss why you chose your approach, what alternatives you considered, and any concerns you have. How valid is your model? Include any key indicators of model performance.</b><br><br>\n",
    "Few considerations:\n",
    "- I am building a model for a random user <b>1 month after signup</b>. I need at least a month to have data on the user, like \"trips_in_first_30_days\", ratings, etc.\n",
    "- That user signed up on a date that is not in the range considered in the column \"signup_date\" because I am trying to predict the future. Besides, the model needs to predict active users in their 6th month regardless of their signup_date. As a consequence, <b>\"signup_date\" will be dropped</b>.\n",
    "- The column \"last_trip_date\" is based on 6 months after the signup_date. This model will run only 1 month after the signup date, so we won't have this column when applying the model. With that in mind, <b>\"last_trip_date\" will also be dropped</b>.\n",
    "- <b>The column \"diff_days\" will be dropped</b> because it is the difference between the two columns I am dropping.\n",
    "<br><br>Those columns will be dropped right after I define the target column because I need \"diff_days\" to define it."
   ]
  },
  {
   "cell_type": "markdown",
   "metadata": {},
   "source": [
    "## Metrics to evaluate the model\n",
    "Considering the business, this problem should be rephrased as follows:<br><br>\n",
    "\"Build a predictive model to determine if a user will <b>NOT</b> be active in six months\".<br><br>\n",
    "I am interested in identifying who is likely to abandon Ultimate within 6 months, so we can act on them, giving discounts, special offers, etc.<br>\n",
    "Now, getting back to the Data Science department, my positive class (flag = 1) will be the users that are inactive within six months. I want to have a <b>high recall rate for the \"1\" class</b>.I am willing to have some false positives, as long as I have a high \"hit rate\", meaning that I identify most of the users likely to stop using Ultimate's services within 6 months.<br><br>\n",
    "With that in mind, let's define our \"target\" column following this logic:\n",
    "- 1 if \"diff_days\" <= 150.\n",
    "- 0 otherwise\n",
    "Note that 6 months = 180 days. considering the 30 days that a user can still be considered active without taking trips, we deduct 30 from 180."
   ]
  },
  {
   "cell_type": "code",
   "execution_count": 48,
   "metadata": {},
   "outputs": [
    {
     "name": "stdout",
     "output_type": "stream",
     "text": [
      "24.4 %\n"
     ]
    }
   ],
   "source": [
    "# The target colum is a flag: 1 if the user is likely to abandon Ultimate within 6 months, 0 otherwise\n",
    "df[\"target\"] = df.diff_days.apply(lambda x:1 if x<=150 else 0)\n",
    "\n",
    "# Check the operation by calculating the proportion of 0's, which should be 24.4%\n",
    "print(np.round(100-(df.target.sum()/len(df)*100), decimals=1), \"%\")"
   ]
  },
  {
   "cell_type": "markdown",
   "metadata": {},
   "source": [
    "Proportion of 0's is matching the 24.4% retention rate we found earlier. Let's drop the three columns mentioned in the initial considerations."
   ]
  },
  {
   "cell_type": "code",
   "execution_count": 49,
   "metadata": {
    "scrolled": true
   },
   "outputs": [
    {
     "data": {
      "text/html": [
       "<div>\n",
       "<style scoped>\n",
       "    .dataframe tbody tr th:only-of-type {\n",
       "        vertical-align: middle;\n",
       "    }\n",
       "\n",
       "    .dataframe tbody tr th {\n",
       "        vertical-align: top;\n",
       "    }\n",
       "\n",
       "    .dataframe thead th {\n",
       "        text-align: right;\n",
       "    }\n",
       "</style>\n",
       "<table border=\"1\" class=\"dataframe\">\n",
       "  <thead>\n",
       "    <tr style=\"text-align: right;\">\n",
       "      <th></th>\n",
       "      <th>city</th>\n",
       "      <th>trips_in_first_30_days</th>\n",
       "      <th>avg_rating_of_driver</th>\n",
       "      <th>avg_surge</th>\n",
       "      <th>phone</th>\n",
       "      <th>surge_pct</th>\n",
       "      <th>ultimate_black_user</th>\n",
       "      <th>weekday_pct</th>\n",
       "      <th>avg_dist</th>\n",
       "      <th>avg_rating_by_driver</th>\n",
       "      <th>target</th>\n",
       "    </tr>\n",
       "  </thead>\n",
       "  <tbody>\n",
       "    <tr>\n",
       "      <td>0</td>\n",
       "      <td>King's Landing</td>\n",
       "      <td>4</td>\n",
       "      <td>4.7</td>\n",
       "      <td>1.10</td>\n",
       "      <td>iPhone</td>\n",
       "      <td>15.4</td>\n",
       "      <td>True</td>\n",
       "      <td>46.2</td>\n",
       "      <td>3.67</td>\n",
       "      <td>5.0</td>\n",
       "      <td>1</td>\n",
       "    </tr>\n",
       "    <tr>\n",
       "      <td>1</td>\n",
       "      <td>Astapor</td>\n",
       "      <td>0</td>\n",
       "      <td>5.0</td>\n",
       "      <td>1.00</td>\n",
       "      <td>Android</td>\n",
       "      <td>0.0</td>\n",
       "      <td>False</td>\n",
       "      <td>50.0</td>\n",
       "      <td>8.26</td>\n",
       "      <td>5.0</td>\n",
       "      <td>1</td>\n",
       "    </tr>\n",
       "    <tr>\n",
       "      <td>2</td>\n",
       "      <td>Astapor</td>\n",
       "      <td>3</td>\n",
       "      <td>4.3</td>\n",
       "      <td>1.00</td>\n",
       "      <td>iPhone</td>\n",
       "      <td>0.0</td>\n",
       "      <td>False</td>\n",
       "      <td>100.0</td>\n",
       "      <td>0.77</td>\n",
       "      <td>5.0</td>\n",
       "      <td>1</td>\n",
       "    </tr>\n",
       "    <tr>\n",
       "      <td>3</td>\n",
       "      <td>King's Landing</td>\n",
       "      <td>9</td>\n",
       "      <td>4.6</td>\n",
       "      <td>1.14</td>\n",
       "      <td>iPhone</td>\n",
       "      <td>20.0</td>\n",
       "      <td>True</td>\n",
       "      <td>80.0</td>\n",
       "      <td>2.36</td>\n",
       "      <td>4.9</td>\n",
       "      <td>0</td>\n",
       "    </tr>\n",
       "    <tr>\n",
       "      <td>4</td>\n",
       "      <td>Winterfell</td>\n",
       "      <td>14</td>\n",
       "      <td>4.4</td>\n",
       "      <td>1.19</td>\n",
       "      <td>Android</td>\n",
       "      <td>11.8</td>\n",
       "      <td>False</td>\n",
       "      <td>82.4</td>\n",
       "      <td>3.13</td>\n",
       "      <td>4.9</td>\n",
       "      <td>1</td>\n",
       "    </tr>\n",
       "    <tr>\n",
       "      <td>...</td>\n",
       "      <td>...</td>\n",
       "      <td>...</td>\n",
       "      <td>...</td>\n",
       "      <td>...</td>\n",
       "      <td>...</td>\n",
       "      <td>...</td>\n",
       "      <td>...</td>\n",
       "      <td>...</td>\n",
       "      <td>...</td>\n",
       "      <td>...</td>\n",
       "      <td>...</td>\n",
       "    </tr>\n",
       "    <tr>\n",
       "      <td>49995</td>\n",
       "      <td>King's Landing</td>\n",
       "      <td>0</td>\n",
       "      <td>5.0</td>\n",
       "      <td>1.00</td>\n",
       "      <td>iPhone</td>\n",
       "      <td>0.0</td>\n",
       "      <td>False</td>\n",
       "      <td>100.0</td>\n",
       "      <td>5.63</td>\n",
       "      <td>4.2</td>\n",
       "      <td>1</td>\n",
       "    </tr>\n",
       "    <tr>\n",
       "      <td>49996</td>\n",
       "      <td>Astapor</td>\n",
       "      <td>1</td>\n",
       "      <td>4.6</td>\n",
       "      <td>1.00</td>\n",
       "      <td>iPhone</td>\n",
       "      <td>0.0</td>\n",
       "      <td>False</td>\n",
       "      <td>0.0</td>\n",
       "      <td>0.00</td>\n",
       "      <td>4.0</td>\n",
       "      <td>1</td>\n",
       "    </tr>\n",
       "    <tr>\n",
       "      <td>49997</td>\n",
       "      <td>Winterfell</td>\n",
       "      <td>0</td>\n",
       "      <td>5.0</td>\n",
       "      <td>1.00</td>\n",
       "      <td>Android</td>\n",
       "      <td>0.0</td>\n",
       "      <td>True</td>\n",
       "      <td>100.0</td>\n",
       "      <td>3.86</td>\n",
       "      <td>5.0</td>\n",
       "      <td>1</td>\n",
       "    </tr>\n",
       "    <tr>\n",
       "      <td>49998</td>\n",
       "      <td>Astapor</td>\n",
       "      <td>2</td>\n",
       "      <td>3.0</td>\n",
       "      <td>1.00</td>\n",
       "      <td>iPhone</td>\n",
       "      <td>0.0</td>\n",
       "      <td>False</td>\n",
       "      <td>100.0</td>\n",
       "      <td>4.58</td>\n",
       "      <td>3.5</td>\n",
       "      <td>1</td>\n",
       "    </tr>\n",
       "    <tr>\n",
       "      <td>49999</td>\n",
       "      <td>Astapor</td>\n",
       "      <td>0</td>\n",
       "      <td>4.6</td>\n",
       "      <td>1.00</td>\n",
       "      <td>Android</td>\n",
       "      <td>0.0</td>\n",
       "      <td>False</td>\n",
       "      <td>0.0</td>\n",
       "      <td>3.49</td>\n",
       "      <td>5.0</td>\n",
       "      <td>1</td>\n",
       "    </tr>\n",
       "  </tbody>\n",
       "</table>\n",
       "<p>50000 rows × 11 columns</p>\n",
       "</div>"
      ],
      "text/plain": [
       "                 city  trips_in_first_30_days  avg_rating_of_driver  \\\n",
       "0      King's Landing                       4                   4.7   \n",
       "1             Astapor                       0                   5.0   \n",
       "2             Astapor                       3                   4.3   \n",
       "3      King's Landing                       9                   4.6   \n",
       "4          Winterfell                      14                   4.4   \n",
       "...               ...                     ...                   ...   \n",
       "49995  King's Landing                       0                   5.0   \n",
       "49996         Astapor                       1                   4.6   \n",
       "49997      Winterfell                       0                   5.0   \n",
       "49998         Astapor                       2                   3.0   \n",
       "49999         Astapor                       0                   4.6   \n",
       "\n",
       "       avg_surge    phone  surge_pct  ultimate_black_user  weekday_pct  \\\n",
       "0           1.10   iPhone       15.4                 True         46.2   \n",
       "1           1.00  Android        0.0                False         50.0   \n",
       "2           1.00   iPhone        0.0                False        100.0   \n",
       "3           1.14   iPhone       20.0                 True         80.0   \n",
       "4           1.19  Android       11.8                False         82.4   \n",
       "...          ...      ...        ...                  ...          ...   \n",
       "49995       1.00   iPhone        0.0                False        100.0   \n",
       "49996       1.00   iPhone        0.0                False          0.0   \n",
       "49997       1.00  Android        0.0                 True        100.0   \n",
       "49998       1.00   iPhone        0.0                False        100.0   \n",
       "49999       1.00  Android        0.0                False          0.0   \n",
       "\n",
       "       avg_dist  avg_rating_by_driver  target  \n",
       "0          3.67                   5.0       1  \n",
       "1          8.26                   5.0       1  \n",
       "2          0.77                   5.0       1  \n",
       "3          2.36                   4.9       0  \n",
       "4          3.13                   4.9       1  \n",
       "...         ...                   ...     ...  \n",
       "49995      5.63                   4.2       1  \n",
       "49996      0.00                   4.0       1  \n",
       "49997      3.86                   5.0       1  \n",
       "49998      4.58                   3.5       1  \n",
       "49999      3.49                   5.0       1  \n",
       "\n",
       "[50000 rows x 11 columns]"
      ]
     },
     "execution_count": 49,
     "metadata": {},
     "output_type": "execute_result"
    }
   ],
   "source": [
    "# Drop columns we won't have in \"real life\"\n",
    "df = df.drop(labels=[\"signup_date\", \"last_trip_date\", \"diff_days\"], axis=1)\n",
    "df"
   ]
  },
  {
   "cell_type": "markdown",
   "metadata": {},
   "source": [
    "Now let's check which variables correlate with the target column. I'll use the seaborn correlation heatmap to do so."
   ]
  },
  {
   "cell_type": "code",
   "execution_count": 50,
   "metadata": {
    "scrolled": true
   },
   "outputs": [
    {
     "data": {
      "image/png": "[encoded data removed]",
      "text/plain": [
       "<Figure size 432x288 with 2 Axes>"
      ]
     },
     "metadata": {
      "needs_background": "light"
     },
     "output_type": "display_data"
    }
   ],
   "source": [
    "# Import seaborn library\n",
    "import seaborn as sns\n",
    "\n",
    "# Build heatmap\n",
    "sns.heatmap(df.corr(), annot = True, fmt='.1g')\n",
    "\n",
    "# Show plot\n",
    "plt.show()"
   ]
  },
  {
   "cell_type": "markdown",
   "metadata": {},
   "source": [
    "<b>\"trips_in_first_30_days\" and \"ultimate_black_user\"</b> have a significant negative correlation with the target column, whereas <b>\"avg_dist\"</b> has a positive correlation. I also want to test the model using only those three columns.<br><br>\n",
    "This is a <b>classification problem</b>, and here is my strategy:\n",
    "- Define a function to plot relevant metrics (printMetrics) according to what was discussed earlier\n",
    "- Split the data into training (70%) and testing (30%)\n",
    "- Define a Benchmark --> dummy classifier from sklearn\n",
    "- Generate dummy variables for the categorical columns --> pd.get_dummies()\n",
    "- Run a logistic regression two times, one with all variables and another one with only the 3 most correlated\n",
    "- Compare the performances.<br><br>\n",
    "If the performance is poor, I'll test another classification model."
   ]
  },
  {
   "cell_type": "code",
   "execution_count": 51,
   "metadata": {},
   "outputs": [],
   "source": [
    "# PRINT METRICS FUNCTION DEFINITION\n",
    "\n",
    "# Import necessary Libraries\n",
    "from sklearn.metrics import f1_score, confusion_matrix, accuracy_score\n",
    "\n",
    "# Function that prints the relevant data about a classification model\n",
    "def printMetrics(clf, X_test, y_test):\n",
    "    y_pred = clf.predict(X_test)\n",
    "    print(\"Total PREDICTED inactive users within 6 months: \",sum(y_pred))\n",
    "    print(\"Total ACTUAL inactive users within 6 months: \", sum(y_test))\n",
    "    print(\"R Squared: \", accuracy_score(y_test, y_pred))\n",
    "    print(\"F1Score: \", f1_score(y_test, y_pred))\n",
    "    cm = confusion_matrix(y_test, y_pred)\n",
    "    print(\"Confusion matrix:\")\n",
    "    print(cm)\n",
    "    print(\"Recall: \", cm[1,1]/(cm[1,0]+cm[1,1]))"
   ]
  },
  {
   "cell_type": "code",
   "execution_count": 52,
   "metadata": {},
   "outputs": [],
   "source": [
    "# SPLIT INTO TRAIN / TEST DATASETS AND DUMMY COLUMNS\n",
    "\n",
    "# Import necessary Libraries\n",
    "from sklearn.model_selection import train_test_split\n",
    "\n",
    "# Isolate the target column\n",
    "y = df.target\n",
    "\n",
    "# Drop the target column and store in a copy of the dataFrame df.\n",
    "df_copy = df.drop(labels=\"target\", axis=1)\n",
    "\n",
    "# Generate dummy columns for the categorical columns\n",
    "df_copy = pd.get_dummies(df_copy)\n",
    "\n",
    "# Split the data: 30% / 70%, full dataset (note the stratify parameter, as the classes are imbalanced)\n",
    "X_train_full, X_test_full, y_train_full, y_test_full = train_test_split(df_copy, y, test_size=0.30, random_state=0, stratify=y, shuffle=True)\n",
    "\n",
    "# Drop all columns except \"trips_in_first_30_days\", \"ultimate_black_user\" and \"avg_dist\"\n",
    "df_copy = df.drop(labels=[col for col in df.columns if col not in [\"trips_in_first_30_days\" , \"ultimate_black_user\", \"avg_dist\"]], axis=1)\n",
    "\n",
    "# Split the data: 30% / 70%, slim dataset\n",
    "X_train_slim, X_test_slim, y_train_slim, y_test_slim = train_test_split(df_copy, y, test_size=0.30, random_state=42, stratify=y, shuffle=True)"
   ]
  },
  {
   "cell_type": "code",
   "execution_count": 53,
   "metadata": {
    "scrolled": true
   },
   "outputs": [
    {
     "name": "stdout",
     "output_type": "stream",
     "text": [
      "Total PREDICTED inactive users within 6 months:  11376\n",
      "Total ACTUAL inactive users within 6 months:  11341\n",
      "R Squared:  0.6292666666666666\n",
      "F1Score:  0.7552053528194744\n",
      "Confusion matrix:\n",
      "[[ 861 2798]\n",
      " [2763 8578]]\n",
      "Recall:  0.7563706904153072\n"
     ]
    }
   ],
   "source": [
    "# DEFINING BENCHMARK - DUMMY CLASSIFIER\n",
    "\n",
    "# Import necessary Libraries\n",
    "from sklearn.dummy import DummyClassifier\n",
    "\n",
    "# Define and fit dummy classifier\n",
    "dummy_clf_full = DummyClassifier(random_state=0).fit(X_train_full, y_train_full)\n",
    "\n",
    "# Print relevant metrics using the full dataset\n",
    "printMetrics(dummy_clf_full, X_test_full, y_test_full)"
   ]
  },
  {
   "cell_type": "markdown",
   "metadata": {},
   "source": [
    "For the dummy model, the two dataset renders the same metrics. Let's see if we can beat those metrics with a classical Logistic Regression."
   ]
  },
  {
   "cell_type": "code",
   "execution_count": 54,
   "metadata": {
    "scrolled": true
   },
   "outputs": [
    {
     "name": "stdout",
     "output_type": "stream",
     "text": [
      "Total PREDICTED inactive users within 6 months:  13807\n",
      "Total ACTUAL inactive users within 6 months:  11341\n",
      "R Squared:  0.768\n",
      "F1Score:  0.8616192142516303\n",
      "Confusion matrix:\n",
      "[[  686  2973]\n",
      " [  507 10834]]\n",
      "Recall:  0.9552949475354907\n",
      "Total PREDICTED inactive users within 6 months:  14533\n",
      "Total ACTUAL inactive users within 6 months:  11341\n",
      "R Squared:  0.7625333333333333\n",
      "F1Score:  0.8623328437814022\n",
      "Confusion matrix:\n",
      "[[  282  3377]\n",
      " [  185 11156]]\n",
      "Recall:  0.9836875055109778\n"
     ]
    }
   ],
   "source": [
    "# LOGISTIC REGRESSION\n",
    "\n",
    "# Import LogisticRegression model\n",
    "from sklearn.linear_model import LogisticRegression\n",
    "\n",
    "# Train model with full dataset\n",
    "clf = LogisticRegression(random_state=5, solver= 'lbfgs', max_iter=300).fit(X_train_full, y_train_full)\n",
    "\n",
    "# Print relevant metrics\n",
    "printMetrics(clf,X_test_full, y_test_full)\n",
    "\n",
    "# Same thing for slim dataset (only 3 most correlated columns)\n",
    "clf = LogisticRegression(random_state=5, solver= 'lbfgs', max_iter=300).fit(X_train_slim, y_train_slim)\n",
    "printMetrics(clf,X_test_slim, y_test_slim)"
   ]
  },
  {
   "cell_type": "markdown",
   "metadata": {},
   "source": [
    "## Logistic Regression analysis\n",
    "- Both runs of the model beat all Benchmark metrics\n",
    "- The Slimmer version of the dataset performed better\n",
    "- A recall rate of 98% is excellent: the model failed to identify only 185 out of 11,341 users that were likely to become inactive.\n",
    "- Considering that Ultimate would run marketing campaigns on the positive class, 3,377 users that were likely to be active in six months would benefit from those campaigns. 3,377 discounts for users that don't need discounts! Not the end of the world, but let's see if we can reduce this number.\n",
    "<br><br>\n",
    "Let's try the Stochastic Gradient Descent Classifier model."
   ]
  },
  {
   "cell_type": "code",
   "execution_count": 55,
   "metadata": {
    "scrolled": true
   },
   "outputs": [
    {
     "name": "stdout",
     "output_type": "stream",
     "text": [
      "Total PREDICTED inactive users within 6 months:  9100\n",
      "Total ACTUAL inactive users within 6 months:  11341\n",
      "R Squared:  0.663\n",
      "F1Score:  0.7527029010322392\n",
      "Confusion matrix:\n",
      "[[2252 1407]\n",
      " [3648 7693]]\n",
      "Recall:  0.6783352438056609\n",
      "Total PREDICTED inactive users within 6 months:  9336\n",
      "Total ACTUAL inactive users within 6 months:  11341\n",
      "R Squared:  0.6398\n",
      "F1Score:  0.7386951685447598\n",
      "Confusion matrix:\n",
      "[[1960 1699]\n",
      " [3704 7637]]\n",
      "Recall:  0.673397407636011\n"
     ]
    }
   ],
   "source": [
    "# STOCHASTIC GRADIENT DESCENT\n",
    "\n",
    "# Import SGD classifier, along with StandardScaler and make_pipeline\n",
    "from sklearn.linear_model import SGDClassifier\n",
    "from sklearn.preprocessing import StandardScaler\n",
    "from sklearn.pipeline import make_pipeline\n",
    "\n",
    "# Train the model with the full dataset. Notice the parameter Class_weight, to consider imbalanced dataset.\n",
    "# It is highly indicated to use Standard Scaler with this model. A pipeline is required\n",
    "clf = make_pipeline(StandardScaler(), SGDClassifier(class_weight='balanced', random_state=42)).fit(X_train_full, y_train_full)\n",
    "printMetrics(clf, X_test_full, y_test_full)\n",
    "\n",
    "# Slim dataset\n",
    "clf = make_pipeline(StandardScaler(), SGDClassifier(class_weight='balanced', random_state=42)).fit(X_train_slim, y_train_slim)\n",
    "printMetrics(clf, X_test_slim, y_test_slim)"
   ]
  },
  {
   "cell_type": "markdown",
   "metadata": {},
   "source": [
    "## SGD classifier analysis\n",
    "- All metrics performed worst than the Logistic Regression\n",
    "- Less false positives (1699) but the price is too high: failed to identify 33% of the positive class\n",
    "- full dataset performed better than the slimmer version of the dataset\n",
    "<br><br>\n",
    "Logistic Regression stands as the best model. I will try one more model, than tweak the best one. Let's try Gradient Booster Classifier."
   ]
  },
  {
   "cell_type": "code",
   "execution_count": 56,
   "metadata": {},
   "outputs": [
    {
     "name": "stdout",
     "output_type": "stream",
     "text": [
      "Total PREDICTED inactive users within 6 months:  12710\n",
      "Total ACTUAL inactive users within 6 months:  11341\n",
      "R Squared:  0.8026\n",
      "F1Score:  0.876886615941125\n",
      "Confusion matrix:\n",
      "[[ 1494  2165]\n",
      " [  796 10545]]\n",
      "Recall:  0.9298121858742615\n",
      "Total PREDICTED inactive users within 6 months:  14070\n",
      "Total ACTUAL inactive users within 6 months:  11341\n",
      "R Squared:  0.7638\n",
      "F1Score:  0.860572193144701\n",
      "Confusion matrix:\n",
      "[[  523  3136]\n",
      " [  407 10934]]\n",
      "Recall:  0.9641125121241513\n"
     ]
    }
   ],
   "source": [
    "# GRADIENT BOOSTING CLASSIFIER\n",
    "\n",
    "# Import Gradient Boosting Classifier\n",
    "from sklearn.ensemble import GradientBoostingClassifier\n",
    "\n",
    "# Train model - full dataset\n",
    "clf = GradientBoostingClassifier(random_state=42).fit(X_train_full, y_train_full)\n",
    "\n",
    "# Print metrics\n",
    "printMetrics(clf, X_test_full, y_test_full)\n",
    "\n",
    "# Train model - slim dataset\n",
    "clf = GradientBoostingClassifier(random_state=42).fit(X_train_slim, y_train_slim)\n",
    "\n",
    "# Print metrics\n",
    "printMetrics(clf, X_test_slim, y_test_slim)\n"
   ]
  },
  {
   "cell_type": "markdown",
   "metadata": {},
   "source": [
    "## Gradient Boosting Classifier analysis\n",
    "- The slim dataset has a better Recall Rate, but worse R squared and F1 score, compared to the full dataset\n",
    "- Considering the slim dataset, all metrics performance were close to the Logistic Regression metric's performance.\n",
    "- As mentioned earlier, the Recall rate is very important, so I'll stick with the Logistic Regression - Slim dataset (98% > 96%)\n",
    "<br><br>\n",
    "\n",
    "## Logistic Regression tweaking\n",
    "Logistic Regression, with the slim dataset, is the best model. Let's try <b>tweaking some parameters</b> to see if we can improve the score. For that, I'll use gridSearchCV."
   ]
  },
  {
   "cell_type": "code",
   "execution_count": 59,
   "metadata": {
    "scrolled": true
   },
   "outputs": [
    {
     "name": "stdout",
     "output_type": "stream",
     "text": [
      "{'solver': 'liblinear'}\n",
      "Total PREDICTED inactive users within 6 months:  14533\n",
      "Total ACTUAL inactive users within 6 months:  11341\n",
      "R Squared:  0.7625333333333333\n",
      "F1Score:  0.8623328437814022\n",
      "Confusion matrix:\n",
      "[[  282  3377]\n",
      " [  185 11156]]\n",
      "Recall:  0.9836875055109778\n"
     ]
    }
   ],
   "source": [
    "# TWEAKING LOGISTIC REGRESSION PARAMETERS - SOLVER\n",
    "\n",
    "from sklearn.model_selection import GridSearchCV\n",
    "\n",
    "parameters = {'solver':('newton-cg', 'lbfgs', 'liblinear', 'sag', 'saga')}\n",
    "cl = LogisticRegression(random_state=42, max_iter=300)\n",
    "clf = GridSearchCV(cl, parameters, cv=3).fit(X_train_slim, y_train_slim)\n",
    "\n",
    "print(clf.best_params_)\n",
    "\n",
    "# Print metrics\n",
    "printMetrics(clf, X_test_slim, y_test_slim)"
   ]
  },
  {
   "cell_type": "markdown",
   "metadata": {},
   "source": [
    "The best solver chosen by grid search was 'liblinear', but the performance is the same as with solver='lbfgs'.<br>\n",
    "I am now tweaking the <b>penalty</b>. The reason I did not tweak the Solver and the Penalty together is because not all solvers accept all penalties. With that in mind, I'll use solver='liblinear, to try penalties L1 and L2. ('lbfgs' does not support L1 penalty)."
   ]
  },
  {
   "cell_type": "code",
   "execution_count": 60,
   "metadata": {},
   "outputs": [
    {
     "name": "stdout",
     "output_type": "stream",
     "text": [
      "{'penalty': 'l1'}\n",
      "Total PREDICTED inactive users within 6 months:  14533\n",
      "Total ACTUAL inactive users within 6 months:  11341\n",
      "R Squared:  0.7625333333333333\n",
      "F1Score:  0.8623328437814022\n",
      "Confusion matrix:\n",
      "[[  282  3377]\n",
      " [  185 11156]]\n",
      "Recall:  0.9836875055109778\n"
     ]
    }
   ],
   "source": [
    "# TWEAKING LOGISTIC REGRESSION PARAMETERS - PENALTY\n",
    "\n",
    "from sklearn.model_selection import GridSearchCV\n",
    "\n",
    "parameters = {'penalty':('l1', 'l2')}\n",
    "cl = LogisticRegression(random_state=42, max_iter=300, solver='liblinear')\n",
    "clf = GridSearchCV(cl, parameters, cv=3).fit(X_train_slim, y_train_slim)\n",
    "\n",
    "print(clf.best_params_)\n",
    "\n",
    "# Print metrics\n",
    "printMetrics(clf, X_test_slim, y_test_slim)"
   ]
  },
  {
   "cell_type": "markdown",
   "metadata": {},
   "source": [
    "GridSearch chose L1 penalty, but the performance is the same. Lastly, I'll tweak the <b>regularization strength C</b>."
   ]
  },
  {
   "cell_type": "code",
   "execution_count": 63,
   "metadata": {},
   "outputs": [
    {
     "name": "stdout",
     "output_type": "stream",
     "text": [
      "{'C': 0.1}\n",
      "Total PREDICTED inactive users within 6 months:  14535\n",
      "Total ACTUAL inactive users within 6 months:  11341\n",
      "R Squared:  0.7625333333333333\n",
      "F1Score:  0.862343484309785\n",
      "Confusion matrix:\n",
      "[[  281  3378]\n",
      " [  184 11157]]\n",
      "Recall:  0.9837756811568644\n"
     ]
    }
   ],
   "source": [
    "# TWEAKING LOGISTIC REGRESSION PARAMETERS - C\n",
    "\n",
    "from sklearn.model_selection import GridSearchCV\n",
    "\n",
    "parameters = {'C':(0.01, 0.1, 1)}\n",
    "cl = LogisticRegression(random_state=42, max_iter=300, solver='liblinear')\n",
    "clf = GridSearchCV(cl, parameters, cv=3).fit(X_train_slim, y_train_slim)\n",
    "\n",
    "print(clf.best_params_)\n",
    "\n",
    "# Print metrics\n",
    "printMetrics(clf, X_test_slim, y_test_slim)"
   ]
  },
  {
   "cell_type": "markdown",
   "metadata": {},
   "source": [
    "C=0.1 was chosen as the best, and the differences are 1 more false positive and 1 less false negative. Virtually the same, I'll just stick to the original model.<br><br>\n",
    "Using the best model, let's check the <b>coeficients</b> for each of the three columns, to see which one is more important:"
   ]
  },
  {
   "cell_type": "code",
   "execution_count": 65,
   "metadata": {},
   "outputs": [
    {
     "name": "stdout",
     "output_type": "stream",
     "text": [
      "[[-0.10392932 -0.68687979  0.03532109]]\n",
      "Index(['trips_in_first_30_days', 'ultimate_black_user', 'avg_dist'], dtype='object')\n"
     ]
    }
   ],
   "source": [
    "# Train the best model\n",
    "clf = LogisticRegression(random_state=5, solver= 'lbfgs', max_iter=300).fit(X_train_slim, y_train_slim)\n",
    "\n",
    "# Print coefficients\n",
    "print(clf.coef_)\n",
    "\n",
    "# Print variables\n",
    "print(df_copy.columns)"
   ]
  },
  {
   "cell_type": "markdown",
   "metadata": {},
   "source": [
    "# Insights from the model\n",
    "We notice that being an <b>ultimate black user</b> is the most relevant feature: those users are more prone to be active after 6 months. The second most important is the number of trips the user made on the first 30 days.<br>\n",
    "Here are the concrete actions I would recommend:\n",
    "- Among the users I predicted as likely to abandon ultimate within 6 months, identify those who are ultimate black and offer them something nice, like a discount free rides. Technically speaking, to find those users, it suffices to run the model for the actual dataset, create a column with the predictions, then filter \"predictions = 1\" and \"ultimate_black_user = 1\".\n",
    "- For the users \"predictions = 1\" and \"ultimate_black_user = 0\", offer them the ultimate black service at no additional cost. Let them feel the comfort!\n",
    "- Lastly, I'd act on the number of trips in the first 30 days. Free rides for new users could help them try to \"insert\" the Ultimate services in their routine."
   ]
  }
 ],
 "metadata": {
  "kernelspec": {
   "display_name": "Python 3",
   "language": "python",
   "name": "python3"
  },
  "language_info": {
   "codemirror_mode": {
    "name": "ipython",
    "version": 3
   },
   "file_extension": ".py",
   "mimetype": "text/x-python",
   "name": "python",
   "nbconvert_exporter": "python",
   "pygments_lexer": "ipython3",
   "version": "3.7.4"
  }
 },
 "nbformat": 4,
 "nbformat_minor": 2
}
